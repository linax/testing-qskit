{
 "cells": [
  {
   "cell_type": "code",
   "execution_count": 4,
   "id": "9768330b-2b7a-43b5-ab7f-217847270fdc",
   "metadata": {},
   "outputs": [],
   "source": [
    "import qiskit"
   ]
  },
  {
   "cell_type": "code",
   "execution_count": 8,
   "id": "1ee2ba5b-c4f3-4eb3-ad6c-71318a835db6",
   "metadata": {},
   "outputs": [
    {
     "data": {
      "text/plain": [
       "'1.1.1'"
      ]
     },
     "execution_count": 8,
     "metadata": {},
     "output_type": "execute_result"
    }
   ],
   "source": [
    "qiskit.__version__"
   ]
  },
  {
   "cell_type": "code",
   "execution_count": 10,
   "id": "135bc3d6-6c0d-4260-8779-a11a3f176f29",
   "metadata": {},
   "outputs": [],
   "source": [
    "from qiskit import QuantumCircuit"
   ]
  },
  {
   "cell_type": "code",
   "execution_count": 11,
   "id": "0513b7d3-bd21-4d8d-bd13-b4629193832f",
   "metadata": {},
   "outputs": [],
   "source": [
    "qc = QuantumCircuit(1)"
   ]
  },
  {
   "cell_type": "code",
   "execution_count": 12,
   "id": "b02c9960-3816-4d7a-9be6-c66760f05f5a",
   "metadata": {},
   "outputs": [],
   "source": [
    "initial_state = [0,1]"
   ]
  },
  {
   "cell_type": "code",
   "execution_count": 13,
   "id": "46c2729b-1d90-46fc-9b06-948dbd916462",
   "metadata": {},
   "outputs": [
    {
     "data": {
      "text/plain": [
       "<qiskit.circuit.instructionset.InstructionSet at 0x10ec41cc0>"
      ]
     },
     "execution_count": 13,
     "metadata": {},
     "output_type": "execute_result"
    }
   ],
   "source": [
    "qc.initialize(initial_state, 0)"
   ]
  },
  {
   "cell_type": "code",
   "execution_count": 6,
   "id": "fb21b3d4-78fc-47e5-b1fb-77e8e66fdd66",
   "metadata": {},
   "outputs": [],
   "source": [
    "from qiskit_aer import AerSimulator\n",
    "from qiskit.visualization import plot_bloch_multivector\n",
    "from mpl_toolkits import mplot3d"
   ]
  },
  {
   "cell_type": "code",
   "execution_count": 7,
   "id": "e8abee9d-25a6-4a9e-972b-995b1caffab5",
   "metadata": {},
   "outputs": [
    {
     "ename": "AttributeError",
     "evalue": "'AerSimulator' object has no attribute 'result'",
     "output_type": "error",
     "traceback": [
      "\u001b[0;31m---------------------------------------------------------------------------\u001b[0m",
      "\u001b[0;31mAttributeError\u001b[0m                            Traceback (most recent call last)",
      "Cell \u001b[0;32mIn[7], line 1\u001b[0m\n\u001b[0;32m----> 1\u001b[0m out \u001b[38;5;241m=\u001b[39m \u001b[43mAerSimulator\u001b[49m\u001b[43m(\u001b[49m\u001b[43m)\u001b[49m\u001b[38;5;241;43m.\u001b[39;49m\u001b[43mresult\u001b[49m()\u001b[38;5;241m.\u001b[39mget_statevector()\n\u001b[1;32m      2\u001b[0m plot_bloch_multivector(out)\n",
      "\u001b[0;31mAttributeError\u001b[0m: 'AerSimulator' object has no attribute 'result'"
     ]
    }
   ],
   "source": [
    "out = AerSimulator().result().get_statevector()\n",
    "plot_bloch_multivector(out)"
   ]
  },
  {
   "cell_type": "code",
   "execution_count": null,
   "id": "41041df9-577f-4656-b9d7-8d50b41238dd",
   "metadata": {},
   "outputs": [],
   "source": []
  }
 ],
 "metadata": {
  "kernelspec": {
   "display_name": "Python 3 (ipykernel)",
   "language": "python",
   "name": "python3"
  },
  "language_info": {
   "codemirror_mode": {
    "name": "ipython",
    "version": 3
   },
   "file_extension": ".py",
   "mimetype": "text/x-python",
   "name": "python",
   "nbconvert_exporter": "python",
   "pygments_lexer": "ipython3",
   "version": "3.12.4"
  }
 },
 "nbformat": 4,
 "nbformat_minor": 5
}
